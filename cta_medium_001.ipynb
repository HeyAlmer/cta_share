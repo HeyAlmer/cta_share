{
 "cells": [
  {
   "cell_type": "code",
   "execution_count": 2,
   "metadata": {
    "collapsed": false
   },
   "outputs": [
    {
     "data": {
      "text/html": [
       "<div>\n",
       "<table border=\"1\" class=\"dataframe\">\n",
       "  <thead>\n",
       "    <tr style=\"text-align: right;\">\n",
       "      <th></th>\n",
       "      <th>route</th>\n",
       "      <th>routename</th>\n",
       "      <th>Month_Beginning</th>\n",
       "      <th>Avg_Weekday_Rides</th>\n",
       "      <th>Avg_Saturday_Rides</th>\n",
       "      <th>Avg_Sunday-Holiday_Rides</th>\n",
       "      <th>MonthTotal</th>\n",
       "    </tr>\n",
       "  </thead>\n",
       "  <tbody>\n",
       "    <tr>\n",
       "      <th>0</th>\n",
       "      <td>1</td>\n",
       "      <td>Indiana/Hyde Park</td>\n",
       "      <td>1/1/2001</td>\n",
       "      <td>6982.6</td>\n",
       "      <td>0.0</td>\n",
       "      <td>0.0</td>\n",
       "      <td>153617</td>\n",
       "    </tr>\n",
       "    <tr>\n",
       "      <th>1</th>\n",
       "      <td>2</td>\n",
       "      <td>Hyde Park Express</td>\n",
       "      <td>1/1/2001</td>\n",
       "      <td>1000.0</td>\n",
       "      <td>0.0</td>\n",
       "      <td>0.0</td>\n",
       "      <td>22001</td>\n",
       "    </tr>\n",
       "    <tr>\n",
       "      <th>2</th>\n",
       "      <td>3</td>\n",
       "      <td>King Drive</td>\n",
       "      <td>1/1/2001</td>\n",
       "      <td>21406.5</td>\n",
       "      <td>13210.7</td>\n",
       "      <td>8725.3</td>\n",
       "      <td>567413</td>\n",
       "    </tr>\n",
       "    <tr>\n",
       "      <th>3</th>\n",
       "      <td>4</td>\n",
       "      <td>Cottage Grove</td>\n",
       "      <td>1/1/2001</td>\n",
       "      <td>22432.2</td>\n",
       "      <td>17994.0</td>\n",
       "      <td>10662.2</td>\n",
       "      <td>618796</td>\n",
       "    </tr>\n",
       "    <tr>\n",
       "      <th>4</th>\n",
       "      <td>6</td>\n",
       "      <td>Jackson Park Express</td>\n",
       "      <td>1/1/2001</td>\n",
       "      <td>18443.0</td>\n",
       "      <td>13088.2</td>\n",
       "      <td>7165.6</td>\n",
       "      <td>493926</td>\n",
       "    </tr>\n",
       "  </tbody>\n",
       "</table>\n",
       "</div>"
      ],
      "text/plain": [
       "  route             routename Month_Beginning  Avg_Weekday_Rides  \\\n",
       "0     1     Indiana/Hyde Park        1/1/2001             6982.6   \n",
       "1     2     Hyde Park Express        1/1/2001             1000.0   \n",
       "2     3            King Drive        1/1/2001            21406.5   \n",
       "3     4         Cottage Grove        1/1/2001            22432.2   \n",
       "4     6  Jackson Park Express        1/1/2001            18443.0   \n",
       "\n",
       "   Avg_Saturday_Rides  Avg_Sunday-Holiday_Rides  MonthTotal  \n",
       "0                 0.0                       0.0      153617  \n",
       "1                 0.0                       0.0       22001  \n",
       "2             13210.7                    8725.3      567413  \n",
       "3             17994.0                   10662.2      618796  \n",
       "4             13088.2                    7165.6      493926  "
      ]
     },
     "execution_count": 2,
     "metadata": {},
     "output_type": "execute_result"
    }
   ],
   "source": [
    "import pandas as pd\n",
    "df = pd.read_csv('../data/CTA_-_Ridership_-_Bus_Routes_-_Monthly_Day-Type_Averages___Totals.csv')\n",
    "df.head()"
   ]
  },
  {
   "cell_type": "code",
   "execution_count": null,
   "metadata": {
    "collapsed": true
   },
   "outputs": [],
   "source": []
  }
 ],
 "metadata": {
  "kernelspec": {
   "display_name": "Python 3",
   "language": "python",
   "name": "python3"
  },
  "language_info": {
   "codemirror_mode": {
    "name": "ipython",
    "version": 3
   },
   "file_extension": ".py",
   "mimetype": "text/x-python",
   "name": "python",
   "nbconvert_exporter": "python",
   "pygments_lexer": "ipython3",
   "version": "3.6.0"
  }
 },
 "nbformat": 4,
 "nbformat_minor": 2
}
